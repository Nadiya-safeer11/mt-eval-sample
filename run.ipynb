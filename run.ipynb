{
  "cells": [
    {
      "cell_type": "markdown",
      "metadata": {
        "id": "view-in-github",
        "colab_type": "text"
      },
      "source": [
        "<a href=\"https://colab.research.google.com/github/Nadiya-safeer11/mt-eval-sample/blob/main/run.ipynb\" target=\"_parent\"><img src=\"https://colab.research.google.com/assets/colab-badge.svg\" alt=\"Open In Colab\"/></a>"
      ]
    },
    {
      "cell_type": "markdown",
      "id": "c173ea0e",
      "metadata": {
        "id": "c173ea0e"
      },
      "source": [
        "# 🧪 Machine Translation BLEU Score Evaluation in Colab"
      ]
    },
    {
      "cell_type": "code",
      "execution_count": 5,
      "id": "59bd55dc",
      "metadata": {
        "id": "59bd55dc",
        "outputId": "c91a5667-d30f-44fe-9776-5e4037ae036b",
        "colab": {
          "base_uri": "https://localhost:8080/"
        }
      },
      "outputs": [
        {
          "output_type": "stream",
          "name": "stdout",
          "text": [
            "Requirement already satisfied: sacrebleu in /usr/local/lib/python3.11/dist-packages (2.5.1)\n",
            "Requirement already satisfied: portalocker in /usr/local/lib/python3.11/dist-packages (from sacrebleu) (3.2.0)\n",
            "Requirement already satisfied: regex in /usr/local/lib/python3.11/dist-packages (from sacrebleu) (2024.11.6)\n",
            "Requirement already satisfied: tabulate>=0.8.9 in /usr/local/lib/python3.11/dist-packages (from sacrebleu) (0.9.0)\n",
            "Requirement already satisfied: numpy>=1.17 in /usr/local/lib/python3.11/dist-packages (from sacrebleu) (2.0.2)\n",
            "Requirement already satisfied: colorama in /usr/local/lib/python3.11/dist-packages (from sacrebleu) (0.4.6)\n",
            "Requirement already satisfied: lxml in /usr/local/lib/python3.11/dist-packages (from sacrebleu) (5.4.0)\n"
          ]
        }
      ],
      "source": [
        "!pip install sacrebleu"
      ]
    },
    {
      "cell_type": "code",
      "execution_count": 6,
      "id": "59ba4ce1",
      "metadata": {
        "id": "59ba4ce1"
      },
      "outputs": [],
      "source": [
        "reference_text = '''This is a test sentence.\n",
        "The quick brown fox jumps over the lazy dog.'''\n",
        "\n",
        "hypothesis_text = '''This is a test sentence.\n",
        "The quick brown fox jumped over a lazy dog.'''\n",
        "\n",
        "with open(\"reference.txt\", \"w\", encoding=\"utf-8\") as ref_file:\n",
        "    ref_file.write(reference_text)\n",
        "\n",
        "with open(\"hypothesis.txt\", \"w\", encoding=\"utf-8\") as hyp_file:\n",
        "    hyp_file.write(hypothesis_text)"
      ]
    },
    {
      "cell_type": "code",
      "execution_count": 7,
      "id": "27ce4dc2",
      "metadata": {
        "id": "27ce4dc2",
        "outputId": "b44b71ec-5b98-42a9-ff03-e87334f84f62",
        "colab": {
          "base_uri": "https://localhost:8080/"
        }
      },
      "outputs": [
        {
          "output_type": "stream",
          "name": "stdout",
          "text": [
            "BLEU Score: 61.80\n"
          ]
        }
      ],
      "source": [
        "import sacrebleu\n",
        "\n",
        "def compute_bleu(reference_file, hypothesis_file):\n",
        "    with open(reference_file, 'r', encoding='utf-8') as ref_file:\n",
        "        references = ref_file.readlines()\n",
        "\n",
        "    with open(hypothesis_file, 'r', encoding='utf-8') as hyp_file:\n",
        "        hypotheses = hyp_file.readlines()\n",
        "\n",
        "    bleu = sacrebleu.corpus_bleu(hypotheses, [references])\n",
        "    return bleu.score\n",
        "\n",
        "score = compute_bleu(\"reference.txt\", \"hypothesis.txt\")\n",
        "print(f\"BLEU Score: {score:.2f}\")"
      ]
    },
    {
      "cell_type": "code",
      "source": [
        "import matplotlib.pyplot as plt\n",
        "\n",
        "# Define multiple hypotheses\n",
        "hypotheses = [\n",
        "    '''This is a test sentence.\n",
        "    The quick brown fox jumped over the lazy dog.''',\n",
        "\n",
        "    '''This is a test sentence.\n",
        "    The quick brown fox jumps over the lazy dog.''',\n",
        "\n",
        "    '''A test sentence is here.\n",
        "    The quick brown fox leapt over the lazy dog.'''\n",
        "]\n",
        "\n",
        "# Define reference text (same as before)\n",
        "reference_text = '''This is a test sentence.\n",
        "The quick brown fox jumps over the lazy dog.'''\n",
        "\n",
        "# Function to compute BLEU score for each hypothesis\n",
        "def compute_bleu(reference_text, hypothesis_text):\n",
        "    with open(\"reference.txt\", \"w\", encoding=\"utf-8\") as ref_file:\n",
        "        ref_file.write(reference_text)\n",
        "\n",
        "    with open(\"hypothesis.txt\", \"w\", encoding=\"utf-8\") as hyp_file:\n",
        "        hyp_file.write(hypothesis_text)\n",
        "\n",
        "    bleu = sacrebleu.corpus_bleu([hypothesis_text], [[reference_text]])\n",
        "    return bleu.score\n",
        "\n",
        "# Calculate BLEU scores for all hypotheses\n",
        "bleu_scores = [compute_bleu(reference_text, hyp) for hyp in hypotheses]\n",
        "\n",
        "# Plotting BLEU scores\n",
        "plt.figure(figsize=(8, 5))\n",
        "plt.bar(range(len(hypotheses)), bleu_scores, color='skyblue')\n",
        "plt.xticks(range(len(hypotheses)), [f\"Hypothesis {i+1}\" for i in range(len(hypotheses))], rotation=45)\n",
        "plt.ylabel('BLEU Score')\n",
        "plt.title('Comparison of BLEU Scores for Different Hypotheses')\n",
        "plt.show()\n"
      ],
      "metadata": {
        "id": "sw-VsIn3Qbzt",
        "outputId": "209e7fd3-d132-494e-90f2-2a79598aeab5",
        "colab": {
          "base_uri": "https://localhost:8080/",
          "height": 527
        }
      },
      "id": "sw-VsIn3Qbzt",
      "execution_count": 8,
      "outputs": [
        {
          "output_type": "display_data",
          "data": {
            "text/plain": [
              "<Figure size 800x500 with 1 Axes>"
            ],
            "image/png": "[encoded data removed]"
          },
          "metadata": {}
        }
      ]
    },
    {
      "cell_type": "code",
      "source": [
        "from IPython.display import display, HTML\n",
        "\n",
        "# Display side-by-side comparison\n",
        "def display_comparison(reference, hypothesis):\n",
        "    comparison = f\"\"\"\n",
        "    <table style=\"width:100%\">\n",
        "        <tr>\n",
        "            <th>Reference</th>\n",
        "            <th>Hypothesis</th>\n",
        "        </tr>\n",
        "        <tr>\n",
        "            <td style=\"width:50%\">{reference}</td>\n",
        "            <td style=\"width:50%\">{hypothesis}</td>\n",
        "        </tr>\n",
        "    </table>\n",
        "    \"\"\"\n",
        "    display(HTML(comparison))\n",
        "\n",
        "# Display comparison for each hypothesis\n",
        "for i, hyp in enumerate(hypotheses):\n",
        "    print(f\"\\nComparison for Hypothesis {i+1}:\")\n",
        "    display_comparison(reference_text, hyp)\n"
      ],
      "metadata": {
        "id": "d31gVcy8QqUw",
        "outputId": "aa085ead-75aa-4175-f770-c71cc297a8b4",
        "colab": {
          "base_uri": "https://localhost:8080/",
          "height": 255
        }
      },
      "id": "d31gVcy8QqUw",
      "execution_count": 9,
      "outputs": [
        {
          "output_type": "stream",
          "name": "stdout",
          "text": [
            "\n",
            "Comparison for Hypothesis 1:\n"
          ]
        },
        {
          "output_type": "display_data",
          "data": {
            "text/plain": [
              "<IPython.core.display.HTML object>"
            ],
            "text/html": [
              "\n",
              "    <table style=\"width:100%\">\n",
              "        <tr>\n",
              "            <th>Reference</th>\n",
              "            <th>Hypothesis</th>\n",
              "        </tr>\n",
              "        <tr>\n",
              "            <td style=\"width:50%\">This is a test sentence.\n",
              "The quick brown fox jumps over the lazy dog.</td>\n",
              "            <td style=\"width:50%\">This is a test sentence.\n",
              "    The quick brown fox jumped over the lazy dog.</td>\n",
              "        </tr>\n",
              "    </table>\n",
              "    "
            ]
          },
          "metadata": {}
        },
        {
          "output_type": "stream",
          "name": "stdout",
          "text": [
            "\n",
            "Comparison for Hypothesis 2:\n"
          ]
        },
        {
          "output_type": "display_data",
          "data": {
            "text/plain": [
              "<IPython.core.display.HTML object>"
            ],
            "text/html": [
              "\n",
              "    <table style=\"width:100%\">\n",
              "        <tr>\n",
              "            <th>Reference</th>\n",
              "            <th>Hypothesis</th>\n",
              "        </tr>\n",
              "        <tr>\n",
              "            <td style=\"width:50%\">This is a test sentence.\n",
              "The quick brown fox jumps over the lazy dog.</td>\n",
              "            <td style=\"width:50%\">This is a test sentence.\n",
              "    The quick brown fox jumps over the lazy dog.</td>\n",
              "        </tr>\n",
              "    </table>\n",
              "    "
            ]
          },
          "metadata": {}
        },
        {
          "output_type": "stream",
          "name": "stdout",
          "text": [
            "\n",
            "Comparison for Hypothesis 3:\n"
          ]
        },
        {
          "output_type": "display_data",
          "data": {
            "text/plain": [
              "<IPython.core.display.HTML object>"
            ],
            "text/html": [
              "\n",
              "    <table style=\"width:100%\">\n",
              "        <tr>\n",
              "            <th>Reference</th>\n",
              "            <th>Hypothesis</th>\n",
              "        </tr>\n",
              "        <tr>\n",
              "            <td style=\"width:50%\">This is a test sentence.\n",
              "The quick brown fox jumps over the lazy dog.</td>\n",
              "            <td style=\"width:50%\">A test sentence is here.\n",
              "    The quick brown fox leapt over the lazy dog.</td>\n",
              "        </tr>\n",
              "    </table>\n",
              "    "
            ]
          },
          "metadata": {}
        }
      ]
    }
  ],
  "metadata": {
    "colab": {
      "provenance": [],
      "cell_execution_strategy": "setup",
      "include_colab_link": true
    },
    "language_info": {
      "name": "python"
    },
    "kernelspec": {
      "name": "python3",
      "display_name": "Python 3"
    }
  },
  "nbformat": 4,
  "nbformat_minor": 5
}