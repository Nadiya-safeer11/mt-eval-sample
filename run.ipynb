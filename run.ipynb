{
 "cells": [
  {
   "cell_type": "markdown",
   "id": "c173ea0e",
   "metadata": {},
   "source": [
    "# 🧪 Machine Translation BLEU Score Evaluation in Colab"
   ]
  },
  {
   "cell_type": "code",
   "execution_count": null,
   "id": "59bd55dc",
   "metadata": {},
   "outputs": [],
   "source": [
    "!pip install sacrebleu"
   ]
  },
  {
   "cell_type": "code",
   "execution_count": null,
   "id": "59ba4ce1",
   "metadata": {},
   "outputs": [],
   "source": [
    "reference_text = '''This is a test sentence.\n",
    "The quick brown fox jumps over the lazy dog.'''\n",
    "\n",
    "hypothesis_text = '''This is a test sentence.\n",
    "The quick brown fox jumped over a lazy dog.'''\n",
    "\n",
    "with open(\"reference.txt\", \"w\", encoding=\"utf-8\") as ref_file:\n",
    "    ref_file.write(reference_text)\n",
    "\n",
    "with open(\"hypothesis.txt\", \"w\", encoding=\"utf-8\") as hyp_file:\n",
    "    hyp_file.write(hypothesis_text)"
   ]
  },
  {
   "cell_type": "code",
   "execution_count": null,
   "id": "27ce4dc2",
   "metadata": {},
   "outputs": [],
   "source": [
    "import sacrebleu\n",
    "\n",
    "def compute_bleu(reference_file, hypothesis_file):\n",
    "    with open(reference_file, 'r', encoding='utf-8') as ref_file:\n",
    "        references = ref_file.readlines()\n",
    "\n",
    "    with open(hypothesis_file, 'r', encoding='utf-8') as hyp_file:\n",
    "        hypotheses = hyp_file.readlines()\n",
    "\n",
    "    bleu = sacrebleu.corpus_bleu(hypotheses, [references])\n",
    "    return bleu.score\n",
    "\n",
    "score = compute_bleu(\"reference.txt\", \"hypothesis.txt\")\n",
    "print(f\"BLEU Score: {score:.2f}\")"
   ]
  }
 ],
 "metadata": {},
 "nbformat": 4,
 "nbformat_minor": 5
}
